{
 "cells": [
  {
   "cell_type": "markdown",
   "metadata": {},
   "source": [
    "# School\n",
    "\n",
    "Let's start with a **Warm-Up** challenge and a quick `SELECT` statement."
   ]
  },
  {
   "cell_type": "markdown",
   "metadata": {},
   "source": [
    "## Data\n",
    "We will work with the `school.sqlite` database available at this URL:\n",
    "`https://wagon-public-datasets.s3.amazonaws.com/sql_databases/school.sqlite`\n",
    "\n",
    "Run the cell below to download the file:"
   ]
  },
  {
   "cell_type": "code",
   "execution_count": null,
   "metadata": {},
   "outputs": [],
   "source": [
    "!curl https://wagon-public-datasets.s3.amazonaws.com/sql_databases/school.sqlite > data/school.sqlite"
   ]
  },
  {
   "cell_type": "markdown",
   "metadata": {},
   "source": [
    "## Database Discovery\n",
    "\n",
    "You can use the VS Code SQLite extension to explore the database (once you downloaded the database):\n",
    "\n",
    "- Hit `Ctrl-Shift-P` or `Cmd-Shift-P`\n",
    "- Start typing until you see `SQLite: Open Database`\n",
    "- `Enter`\n",
    "- Select the database file from the dropdown\n",
    "- In the bottom left corner, click on `SQLITE EXPLORER`\n",
    "\n",
    "Answer the following questions:\n",
    "\n",
    "- How many tables do you have?\n",
    "- For each table, what are the columns?\n",
    "\n",
    "Once you are comfortable with the schema, let's write a SQL Query\n"
   ]
  },
  {
   "cell_type": "markdown",
   "metadata": {},
   "source": [
    "## Setup\n",
    "\n",
    "Pandas and sqlite3 is all we need :-)"
   ]
  },
  {
   "cell_type": "code",
   "execution_count": null,
   "metadata": {},
   "outputs": [],
   "source": [
    "import pandas as pd\n",
    "from sqlite3 import connect"
   ]
  },
  {
   "cell_type": "markdown",
   "metadata": {},
   "source": [
    "## Paris Students\n",
    "\n",
    "👉 Write a SQL Query to select all students from `Paris`."
   ]
  },
  {
   "cell_type": "code",
   "execution_count": null,
   "metadata": {},
   "outputs": [],
   "source": [
    "# Return all students from Paris\n",
    "query_students = \"\"\"\n",
    "    SELECT \"You have to write your query here\" AS TODO -- Replace this line by your SQL query\n",
    "\"\"\""
   ]
  },
  {
   "cell_type": "code",
   "execution_count": null,
   "metadata": {},
   "outputs": [],
   "source": [
    "with connect('data/school.sqlite') as conn:\n",
    "    df = pd.read_sql(\n",
    "        query_students,\n",
    "        con=conn\n",
    "    )\n",
    "df.head()"
   ]
  },
  {
   "cell_type": "markdown",
   "metadata": {},
   "source": [
    "## Dynamic queries"
   ]
  },
  {
   "cell_type": "markdown",
   "metadata": {},
   "source": [
    "Cool, we got our Paris students.\n",
    "\n",
    "But wouldn't it be nice if this query was **dynamic** (i.e. work with any city)?\n",
    "\n",
    "👉 Rewrite the query, so we can use it for any city. Check the code below how we are going to use it when we load our DataFrame."
   ]
  },
  {
   "cell_type": "code",
   "execution_count": null,
   "metadata": {},
   "outputs": [],
   "source": [
    "# Return all students from a city\n",
    "query_students = \"\"\"\n",
    "    SELECT \"You have to write your query here\" AS TODO -- Replace this line by your SQL query\n",
    "\"\"\""
   ]
  },
  {
   "cell_type": "code",
   "execution_count": null,
   "metadata": {},
   "outputs": [],
   "source": [
    "city = 'London'\n",
    "\n",
    "with connect('data/school.sqlite') as conn:\n",
    "    df = pd.read_sql(\n",
    "        query_students,\n",
    "        con=conn,\n",
    "        params=[city]  # This is where we pass the parameter, the city\n",
    "    )\n",
    "df.head()"
   ]
  },
  {
   "cell_type": "markdown",
   "metadata": {},
   "source": [
    "When the result looks like expected, run the following cell to test your query."
   ]
  },
  {
   "cell_type": "code",
   "execution_count": null,
   "metadata": {},
   "outputs": [],
   "source": [
    "from nbresult import ChallengeResult\n",
    "result = ChallengeResult(\n",
    "    'school',\n",
    "    query=query_students\n",
    ")\n",
    "result.write(); print(result.check())"
   ]
  },
  {
   "cell_type": "markdown",
   "metadata": {},
   "source": [
    "## Key learning points\n",
    "\n",
    "- Use Pandas to query a database\n",
    "- Use parameter substitution to write dynamic queries"
   ]
  }
 ],
 "metadata": {
  "kernelspec": {
   "display_name": "Python 3",
   "language": "python",
   "name": "python3"
  }
 },
 "nbformat": 4,
 "nbformat_minor": 4
}
